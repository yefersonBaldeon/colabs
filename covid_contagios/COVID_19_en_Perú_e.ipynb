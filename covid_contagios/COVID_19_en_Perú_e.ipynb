{
  "nbformat": 4,
  "nbformat_minor": 0,
  "metadata": {
    "colab": {
      "name": "COVID_19_en_Perú_e.ipynb",
      "private_outputs": true,
      "provenance": [],
      "collapsed_sections": []
    },
    "kernelspec": {
      "name": "python3",
      "display_name": "Python 3"
    }
  },
  "cells": [
    {
      "cell_type": "markdown",
      "metadata": {
        "id": "IRIh8hjgSANk"
      },
      "source": [
        "# **COVID-19 en Perú: Casos Positivos**\n",
        "\n",
        "![](https://www.cancer.org/es/noticias-recientes/preguntas-comunes-acerca-del-brote-del-nuevo-coronavirus/_jcr_content/par/image.img.jpg/1586550990157.jpg)\n",
        "\n",
        "\n",
        "\n",
        "### **Objetivo**: *Hacer un análisis exploratorio del dataset, en particular de las Series Temporales*\n",
        "\n",
        "---\n",
        "\n",
        "**Casos positivos por COVID-19 - [Ministerio de Salud - MINSA]**, **COVID-19**, **Salud**\n",
        "\n",
        "Los datos publicados, corresponden al total de casos reportados que dieron positivo al COVID – 19, por departamento, provincia y distrito.  Adicionalmente encontraran datos que son de interés nacional, los mismos que se ponen a disposición de la ciudadanía. **Nota:** Desde el **02/06** lo casos por PR no incluye las IPRESS privadas que realizan tamizaje a trabajadores de empresas en el marco de la reactivación económica, debido a que el objetivo de este tamizaje NO permite identificar casos nuevos en personas sospechosas\n",
        "\n",
        "**Fuente:** Instituto Nacional de Salud y Centro Nacional de Epidemiologia, prevención y Control de Enfermedades – MINSA.\n",
        "\n",
        "**Frecuencia de actualización:** La información se actualiza diariamente\n",
        "\n",
        "\n",
        "\n"
      ]
    },
    {
      "cell_type": "code",
      "metadata": {
        "id": "-E-8SD5EOV5o"
      },
      "source": [
        "import pandas as pd \n",
        "import matplotlib.pyplot as plt\n",
        "import seaborn as sns\n",
        "%matplotlib inline"
      ],
      "execution_count": null,
      "outputs": []
    },
    {
      "cell_type": "markdown",
      "metadata": {
        "id": "eG5ckbw3Rag0"
      },
      "source": [
        "### **Obtener Datos**\n",
        "\n",
        "La iniciativa del Gobierno al respecto de los datos abiertos de COVID-19 se encuentra en https://www.datosabiertos.gob.pe/dataset/casos-positivos-por-covid-19-ministerio-de-salud-minsa"
      ]
    },
    {
      "cell_type": "code",
      "metadata": {
        "id": "JQlry6dDOPBj"
      },
      "source": [
        "!wget -O positivos_covid.csv https://cloud.minsa.gob.pe/s/Y8w3wHsEdYQSZRp/download"
      ],
      "execution_count": null,
      "outputs": []
    },
    {
      "cell_type": "code",
      "metadata": {
        "id": "9IkzhO7p7wcl"
      },
      "source": [
        "ls"
      ],
      "execution_count": null,
      "outputs": []
    },
    {
      "cell_type": "markdown",
      "metadata": {
        "id": "gqYxbKUERftd"
      },
      "source": [
        "### **Leer Datos**"
      ]
    },
    {
      "cell_type": "code",
      "metadata": {
        "id": "BZAWyuq1D_d6"
      },
      "source": [
        "df = pd.read_csv('positivos_covid.csv', sep=\";\")\n",
        "\n",
        "df.head()"
      ],
      "execution_count": null,
      "outputs": []
    },
    {
      "cell_type": "code",
      "metadata": {
        "id": "hV6FVkVgERtb"
      },
      "source": [
        "df.head()"
      ],
      "execution_count": null,
      "outputs": []
    },
    {
      "cell_type": "code",
      "metadata": {
        "id": "uA7p_4klP0LD"
      },
      "source": [
        "df = pd.read_csv('positivos_covid.csv', sep=\";\", parse_dates=['FECHA_CORTE', 'FECHA_RESULTADO'])\n",
        "#df = pd.read_csv('positivos_covid.csv', sep = \";\")\n",
        "df.head()"
      ],
      "execution_count": null,
      "outputs": []
    },
    {
      "cell_type": "code",
      "metadata": {
        "id": "2tX7IxHeyLgH"
      },
      "source": [
        "df.info()"
      ],
      "execution_count": null,
      "outputs": []
    },
    {
      "cell_type": "code",
      "metadata": {
        "id": "12pZig0NE6lL"
      },
      "source": [
        "df.groupby(by='SEXO').size()"
      ],
      "execution_count": null,
      "outputs": []
    },
    {
      "cell_type": "code",
      "metadata": {
        "id": "BMeF1BY9F5Eh"
      },
      "source": [
        "#df.groupby(by='DISTRITO').count()"
      ],
      "execution_count": null,
      "outputs": []
    },
    {
      "cell_type": "code",
      "metadata": {
        "id": "lVCwGX23HFM9"
      },
      "source": [
        "df.head()"
      ],
      "execution_count": null,
      "outputs": []
    },
    {
      "cell_type": "code",
      "metadata": {
        "id": "zCoazctvyJ97"
      },
      "source": [
        "sns.boxplot(data = df,x='EDAD')"
      ],
      "execution_count": null,
      "outputs": []
    },
    {
      "cell_type": "code",
      "metadata": {
        "id": "zckBkMHlBuJJ"
      },
      "source": [
        "# Boxplot de la edad antes del cleaning\n",
        "sns.boxplot(data = df[df['EDAD'] > 10], x = 'EDAD')"
      ],
      "execution_count": null,
      "outputs": []
    },
    {
      "cell_type": "code",
      "metadata": {
        "id": "LS6VPywGCIor"
      },
      "source": [
        "# Data Cleaning\n",
        "df.loc[df['EDAD'] < 0, 'EDAD'] = df[df['EDAD'] < 0]['EDAD'].map(lambda x: x * -1)"
      ],
      "execution_count": null,
      "outputs": []
    },
    {
      "cell_type": "code",
      "metadata": {
        "id": "8YhTPbwhJt80"
      },
      "source": [
        "sns.boxplot(data = df,x='EDAD')"
      ],
      "execution_count": null,
      "outputs": []
    },
    {
      "cell_type": "code",
      "metadata": {
        "id": "O5ybKrb3DiSt"
      },
      "source": [
        "df[['FECHA_RESULTADO', 'EDAD']].groupby('FECHA_RESULTADO').count()"
      ],
      "execution_count": null,
      "outputs": []
    },
    {
      "cell_type": "code",
      "metadata": {
        "id": "Q-mL2nZaAF-O"
      },
      "source": [
        "# Graficos\n",
        "df[['FECHA_RESULTADO', 'EDAD']].groupby('FECHA_RESULTADO').median().plot(figsize=(30, 10))\n",
        "plt.show()"
      ],
      "execution_count": null,
      "outputs": []
    },
    {
      "cell_type": "code",
      "metadata": {
        "id": "FnyUdrHITBcb"
      },
      "source": [
        "# Graficos\n",
        "df[['FECHA_RESULTADO', 'EDAD']].groupby('FECHA_RESULTADO').count().plot(figsize=(30, 10))\n",
        "plt.show()"
      ],
      "execution_count": null,
      "outputs": []
    },
    {
      "cell_type": "code",
      "metadata": {
        "id": "61o9_2x1AGAt"
      },
      "source": [
        "# Boxplot de la edad despues del cleaning\n",
        "sns.boxplot(data = df, x = 'EDAD')"
      ],
      "execution_count": null,
      "outputs": []
    },
    {
      "cell_type": "code",
      "metadata": {
        "id": "atOyaTOvD9V9"
      },
      "source": [
        "sns.countplot(data = df, x = \"METODODX\", hue = \"SEXO\")"
      ],
      "execution_count": null,
      "outputs": []
    },
    {
      "cell_type": "code",
      "metadata": {
        "id": "eUBmaQedD9YX"
      },
      "source": [
        "# Hacer un Group by y un Pivot\n",
        "df_state = df[['METODODX', 'FECHA_RESULTADO', 'EDAD']].groupby(['FECHA_RESULTADO', 'METODODX']).median()"
      ],
      "execution_count": null,
      "outputs": []
    },
    {
      "cell_type": "code",
      "metadata": {
        "id": "XcXnon3WD9za"
      },
      "source": [
        "df_state.pivot_table(index = [\"METODODX\"], columns = ['FECHA_RESULTADO'], values = \"EDAD\")"
      ],
      "execution_count": null,
      "outputs": []
    },
    {
      "cell_type": "markdown",
      "metadata": {
        "id": "onAG0vSGRyDB"
      },
      "source": [
        "# **Ejercicios**"
      ]
    },
    {
      "cell_type": "markdown",
      "metadata": {
        "id": "4n5hzoHMT3iN"
      },
      "source": [
        "### Pregunta 1\n",
        "\n",
        "¿Cuántas pruebas fueron ejecutadas?"
      ]
    },
    {
      "cell_type": "code",
      "metadata": {
        "id": "zjJcDX7fyUAn"
      },
      "source": [
        "# CODIGO GOES HERE\n",
        "df.shape[0]"
      ],
      "execution_count": null,
      "outputs": []
    },
    {
      "cell_type": "markdown",
      "metadata": {
        "id": "63NAwaAXcxb1"
      },
      "source": [
        "### Pregunta 2\n",
        "\n",
        "Verifique si existen duplicados ¿qué porcentaje son registros únicos? Elimine los datos duplicados (nota: es necesario definir el tipo de criterio). Identifique que registros tienen más duplicados ¿cuántos duplicados tiene el registro que más se repite?"
      ]
    },
    {
      "cell_type": "code",
      "metadata": {
        "id": "DcnaE_ZbLILn"
      },
      "source": [
        "sns.heatmap(df.isna())"
      ],
      "execution_count": null,
      "outputs": []
    },
    {
      "cell_type": "code",
      "metadata": {
        "id": "5kqE9VMtLsVh"
      },
      "source": [
        "df.isnull().sum()"
      ],
      "execution_count": null,
      "outputs": []
    },
    {
      "cell_type": "code",
      "metadata": {
        "id": "OsKj-m8PLuL0"
      },
      "source": [
        "df.FECHA_RESULTADO = df.FECHA_RESULTADO.fillna('2021-02-10')\n",
        "df.EDAD  = df.EDAD.fillna(df.EDAD.median())\n"
      ],
      "execution_count": null,
      "outputs": []
    },
    {
      "cell_type": "code",
      "metadata": {
        "id": "rEvG6WxVexNr"
      },
      "source": [
        "df.info()"
      ],
      "execution_count": null,
      "outputs": []
    },
    {
      "cell_type": "code",
      "metadata": {
        "id": "uZNXURfUe-Sv"
      },
      "source": [
        "df.isnull().sum()"
      ],
      "execution_count": null,
      "outputs": []
    },
    {
      "cell_type": "code",
      "metadata": {
        "id": "o1y6MtRmK0AE"
      },
      "source": [
        "df.pivot_table(index=list(df.columns), aggfunc='size')"
      ],
      "execution_count": null,
      "outputs": []
    },
    {
      "cell_type": "code",
      "metadata": {
        "id": "sHRG52sXyVnt"
      },
      "source": [
        "# CODE GOES HERE\n",
        "dups_values = df.pivot_table(index=list(df.columns), aggfunc='size')\n",
        "print(df.shape[0] - dups_values.shape[0] )"
      ],
      "execution_count": null,
      "outputs": []
    },
    {
      "cell_type": "code",
      "metadata": {
        "id": "EoigvR1WKdkW"
      },
      "source": [
        "len(df.drop_duplicates())/len(df)"
      ],
      "execution_count": null,
      "outputs": []
    },
    {
      "cell_type": "markdown",
      "metadata": {
        "id": "9RP2XBlUxKus"
      },
      "source": [
        "### Pregunta 3\n",
        "\n",
        "Contar la cantidad de nulos por columna"
      ]
    },
    {
      "cell_type": "code",
      "metadata": {
        "id": "ecX6eJyayXKN"
      },
      "source": [
        "# CODE GOES HERE\n",
        "df.isnull().sum()"
      ],
      "execution_count": null,
      "outputs": []
    },
    {
      "cell_type": "markdown",
      "metadata": {
        "id": "6AZ1rpEMx3lE"
      },
      "source": [
        "¿Qué proporción de nulos tiene cada columna?"
      ]
    },
    {
      "cell_type": "code",
      "metadata": {
        "id": "mEcJfNyXyYUC"
      },
      "source": [
        "# CODE GOES HERE\n",
        "(df.isnull().sum())/len(df.index)*100\n"
      ],
      "execution_count": null,
      "outputs": []
    },
    {
      "cell_type": "markdown",
      "metadata": {
        "id": "IqWaXv0XUBKn"
      },
      "source": [
        "### Pregunta 4\n",
        "\n",
        "¿Cuál es la cantidad de casos positivos por cada **tipo de prueba**?"
      ]
    },
    {
      "cell_type": "code",
      "metadata": {
        "id": "NxEL704pya7q"
      },
      "source": [
        "# CODE GOES HERE\n",
        "df.groupby('METODODX').UUID.count()\n"
      ],
      "execution_count": null,
      "outputs": []
    },
    {
      "cell_type": "markdown",
      "metadata": {
        "id": "05CTDNhqR1dk"
      },
      "source": [
        "### Pregunta 5\n",
        "\n",
        "¿Cuál es la cantidad de casos positivos por **departamento** y **tipo de prueba**?"
      ]
    },
    {
      "cell_type": "code",
      "metadata": {
        "id": "gyzlVcHDycEo"
      },
      "source": [
        "df[['DEPARTAMENTO','METODODX', 'UUID']].groupby(['DEPARTAMENTO','METODODX']).count()"
      ],
      "execution_count": null,
      "outputs": []
    },
    {
      "cell_type": "markdown",
      "metadata": {
        "id": "QK_loza8gOo5"
      },
      "source": [
        "### Pregunta 6\n",
        "\n",
        "¿Cuál fue la persona de mayor edad que dió positivo a **COVID-19**?"
      ]
    },
    {
      "cell_type": "code",
      "metadata": {
        "id": "_460wUFwydOj"
      },
      "source": [
        "# CODE GOES HERE\n",
        "df.EDAD.max()"
      ],
      "execution_count": null,
      "outputs": []
    },
    {
      "cell_type": "code",
      "metadata": {
        "id": "h_oD4QE6M-DM"
      },
      "source": [
        "df.query(\"EDAD == @df.EDAD.max()\")\n"
      ],
      "execution_count": null,
      "outputs": []
    },
    {
      "cell_type": "code",
      "metadata": {
        "id": "DUljmz0LM_WU"
      },
      "source": [
        "df.loc[df.EDAD == df.EDAD.max()][:]\n"
      ],
      "execution_count": null,
      "outputs": []
    },
    {
      "cell_type": "markdown",
      "metadata": {
        "id": "G5_83JJViXIi"
      },
      "source": [
        "### Pregunta 7\n",
        "\n",
        "Ordene los distritos de Lima por cantidad de casos"
      ]
    },
    {
      "cell_type": "code",
      "metadata": {
        "id": "hMJWb71FysBj"
      },
      "source": [
        "# CODE GOES HERE\n",
        "df[['DISTRITO', 'FECHA_CORTE']].groupby('DISTRITO').count().rename(columns = {'FECHA_CORTE': 'COUNT'})['COUNT'].sort_values()"
      ],
      "execution_count": null,
      "outputs": []
    },
    {
      "cell_type": "code",
      "metadata": {
        "id": "V01JsDbfOaLb"
      },
      "source": [
        "pd.DataFrame(df[df['DEPARTAMENTO'] == \"LIMA\"].value_counts('DISTRITO')).rename(columns = {0: 'COUNT'})"
      ],
      "execution_count": null,
      "outputs": []
    },
    {
      "cell_type": "code",
      "metadata": {
        "id": "0RTrjtgEO_ix"
      },
      "source": [
        "df[df.DEPARTAMENTO == 'LIMA'][['DISTRITO','UUID']].groupby(['DISTRITO']).count().reset_index().sort_values('UUID',ascending=False)\n"
      ],
      "execution_count": null,
      "outputs": []
    },
    {
      "cell_type": "markdown",
      "metadata": {
        "id": "qclzsbU94wAH"
      },
      "source": [
        "### Pregunta 8\n",
        "\n",
        "¿Cuál es el caso más antiguo?"
      ]
    },
    {
      "cell_type": "code",
      "metadata": {
        "id": "kLr4l3ysytMA"
      },
      "source": [
        "# CODE GOES HERE\n",
        "df.min()"
      ],
      "execution_count": null,
      "outputs": []
    },
    {
      "cell_type": "markdown",
      "metadata": {
        "id": "izVdl4p35H3p"
      },
      "source": [
        "### Pregunta 9\n",
        "\n",
        "¿Cuál es el caso más reciente?"
      ]
    },
    {
      "cell_type": "code",
      "metadata": {
        "id": "WS1h5UXcYSKE"
      },
      "source": [
        "df.info()"
      ],
      "execution_count": null,
      "outputs": []
    },
    {
      "cell_type": "code",
      "metadata": {
        "id": "b_5qcs2Kyubo"
      },
      "source": [
        "# CODE GOES HERE\n",
        "df.max()\n"
      ],
      "execution_count": null,
      "outputs": []
    },
    {
      "cell_type": "markdown",
      "metadata": {
        "id": "egF39MoB5Vpk"
      },
      "source": [
        "### Pregunta 10\n",
        "\n",
        "Muestre un histograma de casos por tiempo ¿qué concluye sobre los picos y depresiones en la serie temporal? Muestre también el gráfico de casos acumulados."
      ]
    },
    {
      "cell_type": "code",
      "metadata": {
        "id": "ya_ZaIA_yvmS"
      },
      "source": [
        "# CODE GOES HERE\n",
        "df.groupby('FECHA_RESULTADO').size().plot()"
      ],
      "execution_count": null,
      "outputs": []
    },
    {
      "cell_type": "code",
      "metadata": {
        "id": "yLR4LNwJPxIg"
      },
      "source": [
        "# CODE GOES HERE\n",
        "df.groupby('FECHA_RESULTADO').size().cumsum().plot()\n"
      ],
      "execution_count": null,
      "outputs": []
    },
    {
      "cell_type": "markdown",
      "metadata": {
        "id": "bjgBQDvjsosT"
      },
      "source": [
        "### Pregunta 11\n",
        "\n",
        "Muestre la serie temporal procesada realizando un moving average"
      ]
    },
    {
      "cell_type": "code",
      "metadata": {
        "id": "GMoIKO0uyxBx"
      },
      "source": [
        "# CODE GOES HERE\n",
        "df.groupby('FECHA_RESULTADO').size().rolling(7, center=False).mean().plot()"
      ],
      "execution_count": null,
      "outputs": []
    },
    {
      "cell_type": "markdown",
      "metadata": {
        "id": "TrYp5tefs5Ih"
      },
      "source": [
        "### Pregunta 12\n",
        "\n",
        "Realice esto mismo y muestre 3 distritos en una Departamento/Provincia, por ejemplo en Lima podría ser `['SAN MIGUEL', 'MAGDALENA DEL MAR', 'PUENTE PIEDRA']`"
      ]
    },
    {
      "cell_type": "code",
      "metadata": {
        "id": "U5lVsT_JyyWV"
      },
      "source": [
        "# CODE GOES HERE\n",
        "df[df['DISTRITO'] == \"SAN MIGUEL\"].groupby('FECHA_RESULTADO').size().rolling(7, center=False).mean().plot()\n",
        "df[df['DISTRITO'] == \"PUENTE PIEDRA\"].groupby('FECHA_RESULTADO').size().rolling(7, center=False).mean().plot()\n",
        "df[df['DISTRITO'] == \"MAGDALENA DEL MAR\"].groupby('FECHA_RESULTADO').size().rolling(7, center=False).mean().plot()\n",
        "plt.legend(['SAN MIGUEL', 'PUENTE PIEDRA', 'MAGDALENA DEL MAR'])\n",
        "plt.title(\"CASOS POR DISTRITO SM PT MDM\")"
      ],
      "execution_count": null,
      "outputs": []
    },
    {
      "cell_type": "code",
      "metadata": {
        "id": "yGR57q_fRKmY"
      },
      "source": [
        "# CODE GOES HERE\n",
        "df[df['DISTRITO'] == \"EL TAMBO\"].groupby('FECHA_RESULTADO').size().rolling(7, center=False).mean().plot()\n",
        "df[df['DISTRITO'] == \"HUANCAYO\"].groupby('FECHA_RESULTADO').size().rolling(7, center=False).mean().plot()\n",
        "df[df['DISTRITO'] == \"CHILCA\"].groupby('FECHA_RESULTADO').size().rolling(7, center=False).mean().plot()\n",
        "plt.legend(['EL TAMBO', 'HUANCAYO', 'CHILCA'])\n",
        "plt.title(\"CASOS POR DISTRITO EL TAMBO, HUANCAYO, CHILCA\")"
      ],
      "execution_count": null,
      "outputs": []
    }
  ]
}